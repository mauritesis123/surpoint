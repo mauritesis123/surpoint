{
  "nbformat": 4,
  "nbformat_minor": 0,
  "metadata": {
    "colab": {
      "name": "implementacion2.ipynb",
      "provenance": []
    },
    "kernelspec": {
      "name": "python3",
      "display_name": "Python 3"
    },
    "accelerator": "GPU"
  },
  "cells": [
    {
      "cell_type": "markdown",
      "metadata": {
        "id": "e8R0csSnxWtl"
      },
      "source": [
        ""
      ]
    },
    {
      "cell_type": "code",
      "metadata": {
        "colab": {
          "base_uri": "https://localhost:8080/"
        },
        "id": "eV9Yz1XV0fT6",
        "outputId": "32d46cf6-8ef0-4ae0-b4a0-a34b1c1c3dca"
      },
      "source": [
        "from google.colab import drive\r\n",
        "drive.mount('/content/gdrive')"
      ],
      "execution_count": null,
      "outputs": [
        {
          "output_type": "stream",
          "text": [
            "Mounted at /content/gdrive\n"
          ],
          "name": "stdout"
        }
      ]
    },
    {
      "cell_type": "code",
      "metadata": {
        "id": "HpB0H8SCJ_zu"
      },
      "source": [
        "#from importlib import reload\r\n",
        "#if is_changed(gdrive.MyDrive.proyecto.model):\r\n",
        " #   from gdrive.MyDrive.proyecto.model import Q_Model"
      ],
      "execution_count": null,
      "outputs": []
    },
    {
      "cell_type": "code",
      "metadata": {
        "id": "3s_6CzOH5r3i"
      },
      "source": [
        "\r\n",
        "from gdrive.MyDrive.proyecto.sequence_generator import Single_Signal_Generator\r\n",
        "from gdrive.MyDrive.proyecto.emulator import Market\r\n",
        "from gdrive.MyDrive.proyecto.model import Q_Model\r\n",
        "from gdrive.MyDrive.proyecto.agent import Agent\r\n",
        "from gdrive.MyDrive.proyecto.simulator import Simulator\r\n"
      ],
      "execution_count": null,
      "outputs": []
    },
    {
      "cell_type": "code",
      "metadata": {
        "id": "-bPFlJuaveHr"
      },
      "source": [
        "def load( filename):\r\n",
        "        loaded_signals = np.load(filename)\r\n",
        "        loaded = True\r\n",
        "        no_of_loaded_signals = loaded_signals.shape[0]"
      ],
      "execution_count": null,
      "outputs": []
    },
    {
      "cell_type": "code",
      "metadata": {
        "id": "21Ppm6cKCFye"
      },
      "source": [
        "import pandas as pd\r\n",
        "import numpy as np\r\n",
        "\r\n",
        "df = pd.read_csv (r'/content/gdrive/MyDrive/proyecto/data/SQM-B.SN5.csv')\r\n",
        "n=df[:]['Close']\r\n",
        "#print(df)\r\n",
        "filename = \"/content/gdrive/MyDrive/proyecto/data/senal.npy\"\r\n",
        "np.save(filename, n)\r\n"
      ],
      "execution_count": null,
      "outputs": []
    },
    {
      "cell_type": "code",
      "metadata": {
        "id": "pPf-5CWj6NH9",
        "colab": {
          "base_uri": "https://localhost:8080/",
          "height": 340
        },
        "outputId": "3ca2bf33-e015-45e6-c77d-230b0d93d8bc"
      },
      "source": [
        "#sampler = Single_Signal_Generator(total_timesteps=180, period_range=(10, 40), amplitude_range=(5, 80), noise_amplitude_ratio=0.5)\r\n",
        "#filename = \"Generated Signals.npy\"\r\n",
        "#sampler.build_signals(filename, 1000)\r\n",
        "sampler= load(filename)\r\n",
        "\r\n",
        "env = Market(sampler=sampler, last_n_timesteps=40, buy_cost=3.3)\r\n",
        "\r\n",
        "\r\n"
      ],
      "execution_count": null,
      "outputs": [
        {
          "output_type": "error",
          "ename": "AttributeError",
          "evalue": "ignored",
          "traceback": [
            "\u001b[0;31m---------------------------------------------------------------------------\u001b[0m",
            "\u001b[0;31mAttributeError\u001b[0m                            Traceback (most recent call last)",
            "\u001b[0;32m<ipython-input-18-cb6e01d25d56>\u001b[0m in \u001b[0;36m<module>\u001b[0;34m()\u001b[0m\n\u001b[1;32m      4\u001b[0m \u001b[0msampler\u001b[0m\u001b[0;34m=\u001b[0m \u001b[0mload\u001b[0m\u001b[0;34m(\u001b[0m\u001b[0mfilename\u001b[0m\u001b[0;34m)\u001b[0m\u001b[0;34m\u001b[0m\u001b[0;34m\u001b[0m\u001b[0m\n\u001b[1;32m      5\u001b[0m \u001b[0;34m\u001b[0m\u001b[0m\n\u001b[0;32m----> 6\u001b[0;31m \u001b[0menv\u001b[0m \u001b[0;34m=\u001b[0m \u001b[0mMarket\u001b[0m\u001b[0;34m(\u001b[0m\u001b[0msampler\u001b[0m\u001b[0;34m=\u001b[0m\u001b[0msampler\u001b[0m\u001b[0;34m,\u001b[0m \u001b[0mlast_n_timesteps\u001b[0m\u001b[0;34m=\u001b[0m\u001b[0;36m40\u001b[0m\u001b[0;34m,\u001b[0m \u001b[0mbuy_cost\u001b[0m\u001b[0;34m=\u001b[0m\u001b[0;36m3.3\u001b[0m\u001b[0;34m)\u001b[0m\u001b[0;34m\u001b[0m\u001b[0;34m\u001b[0m\u001b[0m\n\u001b[0m",
            "\u001b[0;32m/content/gdrive/MyDrive/proyecto/emulator.py\u001b[0m in \u001b[0;36m__init__\u001b[0;34m(self, sampler, last_n_timesteps, buy_cost, risk_averse)\u001b[0m\n\u001b[1;32m     36\u001b[0m         \u001b[0mself\u001b[0m\u001b[0;34m.\u001b[0m\u001b[0mcurrent_index\u001b[0m \u001b[0;34m=\u001b[0m \u001b[0mself\u001b[0m\u001b[0;34m.\u001b[0m\u001b[0mstart_index\u001b[0m                                  \u001b[0;31m## indice del precio en la serie.  va actualizandoce\u001b[0m\u001b[0;34m\u001b[0m\u001b[0;34m\u001b[0m\u001b[0m\n\u001b[1;32m     37\u001b[0m         \u001b[0mself\u001b[0m\u001b[0;34m.\u001b[0m\u001b[0mlast_index\u001b[0m \u001b[0;34m=\u001b[0m \u001b[0;32mNone\u001b[0m                                                 \u001b[0;31m##\u001b[0m\u001b[0;34m\u001b[0m\u001b[0;34m\u001b[0m\u001b[0m\n\u001b[0;32m---> 38\u001b[0;31m         \u001b[0mself\u001b[0m\u001b[0;34m.\u001b[0m\u001b[0mreset\u001b[0m\u001b[0;34m(\u001b[0m\u001b[0;34m)\u001b[0m\u001b[0;34m\u001b[0m\u001b[0;34m\u001b[0m\u001b[0m\n\u001b[0m\u001b[1;32m     39\u001b[0m \u001b[0;34m\u001b[0m\u001b[0m\n\u001b[1;32m     40\u001b[0m \u001b[0;34m\u001b[0m\u001b[0m\n",
            "\u001b[0;32m/content/gdrive/MyDrive/proyecto/emulator.py\u001b[0m in \u001b[0;36mreset\u001b[0;34m(self, rand_price)\u001b[0m\n\u001b[1;32m     45\u001b[0m         \u001b[0mself\u001b[0m\u001b[0;34m.\u001b[0m\u001b[0misAvailable\u001b[0m \u001b[0;34m=\u001b[0m \u001b[0;32mTrue\u001b[0m\u001b[0;34m\u001b[0m\u001b[0;34m\u001b[0m\u001b[0m\n\u001b[1;32m     46\u001b[0m \u001b[0;34m\u001b[0m\u001b[0m\n\u001b[0;32m---> 47\u001b[0;31m         \u001b[0msample_2d\u001b[0m \u001b[0;34m=\u001b[0m \u001b[0mself\u001b[0m\u001b[0;34m.\u001b[0m\u001b[0msampler\u001b[0m\u001b[0;34m.\u001b[0m\u001b[0msample\u001b[0m\u001b[0;34m(\u001b[0m\u001b[0;34m)\u001b[0m\u001b[0;34m\u001b[0m\u001b[0;34m\u001b[0m\u001b[0m\n\u001b[0m\u001b[1;32m     48\u001b[0m         \u001b[0msample_1d\u001b[0m \u001b[0;34m=\u001b[0m \u001b[0mnp\u001b[0m\u001b[0;34m.\u001b[0m\u001b[0mreshape\u001b[0m\u001b[0;34m(\u001b[0m\u001b[0msample_2d\u001b[0m\u001b[0;34m[\u001b[0m\u001b[0;34m:\u001b[0m\u001b[0;34m,\u001b[0m\u001b[0;36m0\u001b[0m\u001b[0;34m]\u001b[0m\u001b[0;34m,\u001b[0m \u001b[0msample_2d\u001b[0m\u001b[0;34m.\u001b[0m\u001b[0mshape\u001b[0m\u001b[0;34m[\u001b[0m\u001b[0;36m0\u001b[0m\u001b[0;34m]\u001b[0m\u001b[0;34m)\u001b[0m\u001b[0;34m\u001b[0m\u001b[0;34m\u001b[0m\u001b[0m\n\u001b[1;32m     49\u001b[0m \u001b[0;34m\u001b[0m\u001b[0m\n",
            "\u001b[0;31mAttributeError\u001b[0m: 'NoneType' object has no attribute 'sample'"
          ]
        }
      ]
    },
    {
      "cell_type": "markdown",
      "metadata": {
        "id": "CpHWdvMYxfwc"
      },
      "source": [
        "hola"
      ]
    },
    {
      "cell_type": "code",
      "metadata": {
        "id": "HVmctSHI6Wi2"
      },
      "source": [
        "\r\n",
        "\r\n",
        "dense_model = [\r\n",
        "    {\"type\":\"Reshape\", \"target_shape\":(env.get_state().shape[0]*env.get_state().shape[1],)},\r\n",
        "    {\"type\":\"Dense\", \"units\":16},\r\n",
        "    {\"type\":\"Dense\", \"units\":16},\r\n",
        "    {\"type\":\"Dense\", \"units\":16},\r\n",
        "    {\"type\":\"Dense\", \"units\":16}\r\n",
        "]\r\n",
        "conv_model = [\r\n",
        "    {\"type\":\"Reshape\", \"target_shape\":env.get_state().shape},\r\n",
        "    {\"type\":\"Conv1D\", \"filters\":16, \"kernel_size\":3, \"activation\":\"relu\"},\r\n",
        "    {\"type\":\"Conv1D\", \"filters\":16, \"kernel_size\":3, \"activation\":\"relu\"},\r\n",
        "    {\"type\":\"Flatten\"},\r\n",
        "    {\"type\":\"Dense\", \"units\":48, \"activation\":\"relu\"},\r\n",
        "    {\"type\":\"Dense\", \"units\":24, \"activation\":\"relu\"}\r\n",
        "]\r\n",
        "gru_model = [\r\n",
        "    {\"type\":\"Reshape\", \"target_shape\":env.get_state().shape},\r\n",
        "    {\"type\":\"GRU\", \"units\":16, \"return_sequences\":True},\r\n",
        "    {\"type\":\"GRU\", \"units\":16, \"return_sequences\":True},\r\n",
        "    {\"type\":\"GRU\", \"units\":16, \"return_sequences\":False},\r\n",
        "    {\"type\":\"Dense\", \"units\":16, \"activation\":\"relu\"},\r\n",
        "    {\"type\":\"Dense\", \"units\":16, \"activation\":\"relu\"}\r\n",
        "]\r\n",
        "lstm_model = [\r\n",
        "    {\"type\":\"Reshape\", \"target_shape\":env.get_state().shape},\r\n",
        "    {\"type\":\"LSTM\", \"units\":16, \"return_sequences\":True},\r\n",
        "    {\"type\":\"LSTM\", \"units\":16, \"return_sequences\":False},\r\n",
        "    {\"type\":\"Dense\", \"units\":16, \"activation\":\"relu\"},\r\n",
        "    {\"type\":\"Dense\", \"units\":16, \"activation\":\"relu\"}\r\n",
        "]\r\n",
        "\r\n"
      ],
      "execution_count": null,
      "outputs": []
    },
    {
      "cell_type": "code",
      "metadata": {
        "colab": {
          "base_uri": "https://localhost:8080/"
        },
        "id": "etXACL7N1z84",
        "outputId": "8985bbc0-82a2-45ef-aa82-5e96e2228135"
      },
      "source": [
        "!pip install --upgrade gupload\r\n",
        "\r\n",
        "from pydrive.auth import GoogleAuth\r\n",
        "from google.colab import auth\r\n",
        "\r\n",
        "# Authenticate and create the PyDrive client.\r\n",
        "auth.authenticate_user()"
      ],
      "execution_count": null,
      "outputs": [
        {
          "output_type": "stream",
          "text": [
            "Requirement already up-to-date: gupload in /usr/local/lib/python3.6/dist-packages (1.1.0)\n",
            "Requirement already satisfied, skipping upgrade: click==7.0 in /usr/local/lib/python3.6/dist-packages (from gupload) (7.0)\n",
            "Requirement already satisfied, skipping upgrade: google-api-python-client==1.7.10 in /usr/local/lib/python3.6/dist-packages (from gupload) (1.7.10)\n",
            "Requirement already satisfied, skipping upgrade: google-auth>=1.4.1 in /usr/local/lib/python3.6/dist-packages (from google-api-python-client==1.7.10->gupload) (1.25.0)\n",
            "Requirement already satisfied, skipping upgrade: uritemplate<4dev,>=3.0.0 in /usr/local/lib/python3.6/dist-packages (from google-api-python-client==1.7.10->gupload) (3.0.1)\n",
            "Requirement already satisfied, skipping upgrade: httplib2<1dev,>=0.9.2 in /usr/local/lib/python3.6/dist-packages (from google-api-python-client==1.7.10->gupload) (0.17.4)\n",
            "Requirement already satisfied, skipping upgrade: six<2dev,>=1.6.1 in /usr/local/lib/python3.6/dist-packages (from google-api-python-client==1.7.10->gupload) (1.15.0)\n",
            "Requirement already satisfied, skipping upgrade: google-auth-httplib2>=0.0.3 in /usr/local/lib/python3.6/dist-packages (from google-api-python-client==1.7.10->gupload) (0.0.4)\n",
            "Requirement already satisfied, skipping upgrade: cachetools<5.0,>=2.0.0 in /usr/local/lib/python3.6/dist-packages (from google-auth>=1.4.1->google-api-python-client==1.7.10->gupload) (4.2.1)\n",
            "Requirement already satisfied, skipping upgrade: setuptools>=40.3.0 in /usr/local/lib/python3.6/dist-packages (from google-auth>=1.4.1->google-api-python-client==1.7.10->gupload) (53.0.0)\n",
            "Requirement already satisfied, skipping upgrade: rsa<5,>=3.1.4; python_version >= \"3.6\" in /usr/local/lib/python3.6/dist-packages (from google-auth>=1.4.1->google-api-python-client==1.7.10->gupload) (4.7)\n",
            "Requirement already satisfied, skipping upgrade: pyasn1-modules>=0.2.1 in /usr/local/lib/python3.6/dist-packages (from google-auth>=1.4.1->google-api-python-client==1.7.10->gupload) (0.2.8)\n",
            "Requirement already satisfied, skipping upgrade: pyasn1>=0.1.3 in /usr/local/lib/python3.6/dist-packages (from rsa<5,>=3.1.4; python_version >= \"3.6\"->google-auth>=1.4.1->google-api-python-client==1.7.10->gupload) (0.4.8)\n"
          ],
          "name": "stdout"
        }
      ]
    },
    {
      "cell_type": "code",
      "metadata": {
        "id": "BIKt3oKKRS7D"
      },
      "source": [
        "q_model = Q_Model(\"Dense\", state_dim=env.get_state().shape, no_of_actions=env.no_of_actions, layers=dense_model, hyperparameters={\"lr\":0.0001})\r\n",
        "agent = Agent(q_model, batch_size=8, discount_factor=0.8, epsilon=1)\r\n",
        "\r\n",
        "no_of_episodes_train = 100\r\n",
        "no_of_episodes_test  = 100\r\n",
        "\r\n",
        "sim = Simulator(env, agent)\r\n"
      ],
      "execution_count": null,
      "outputs": []
    },
    {
      "cell_type": "code",
      "metadata": {
        "colab": {
          "base_uri": "https://localhost:8080/",
          "height": 1000
        },
        "id": "j8hRf4Bpfilc",
        "outputId": "5b7172a0-ace9-4245-9f84-1d56f445ceec"
      },
      "source": [
        "sim.train(no_of_episodes_train, epsilon_decay=0.997)\r\n"
      ],
      "execution_count": null,
      "outputs": [
        {
          "output_type": "stream",
          "text": [
            "\n",
            "  0%|          | 0/100 [00:00<?, ?it/s]\u001b[A"
          ],
          "name": "stderr"
        },
        {
          "output_type": "stream",
          "text": [
            "------------------------------------------------------------\n",
            "Training\n",
            "------------------------------------------------------------\n"
          ],
          "name": "stdout"
        },
        {
          "output_type": "stream",
          "text": [
            "\n",
            "  1%|          | 1/100 [02:21<3:54:10, 141.93s/it]\u001b[A\n",
            "  2%|▏         | 2/100 [04:47<3:53:33, 143.00s/it]\u001b[A\n",
            "  3%|▎         | 3/100 [07:12<3:52:25, 143.77s/it]\u001b[A\n",
            "  4%|▍         | 4/100 [09:38<3:50:50, 144.28s/it]\u001b[A\n",
            "  5%|▌         | 5/100 [12:04<3:49:16, 144.80s/it]\u001b[A\n",
            "  6%|▌         | 6/100 [14:30<3:47:12, 145.02s/it]\u001b[A\n",
            "  7%|▋         | 7/100 [16:55<3:45:13, 145.30s/it]\u001b[A\n",
            "  8%|▊         | 8/100 [19:22<3:43:15, 145.60s/it]\u001b[A\n",
            "  9%|▉         | 9/100 [21:48<3:41:19, 145.93s/it]\u001b[A\n",
            " 10%|█         | 10/100 [24:15<3:39:20, 146.22s/it]\u001b[A\n",
            " 11%|█         | 11/100 [26:41<3:36:45, 146.13s/it]\u001b[A\n",
            " 12%|█▏        | 12/100 [29:08<3:34:30, 146.26s/it]\u001b[A\n",
            " 13%|█▎        | 13/100 [31:35<3:32:33, 146.60s/it]\u001b[A\n",
            " 14%|█▍        | 14/100 [34:02<3:30:21, 146.77s/it]\u001b[A\n",
            " 15%|█▌        | 15/100 [36:28<3:27:29, 146.46s/it]\u001b[A\n",
            " 16%|█▌        | 16/100 [38:55<3:25:10, 146.55s/it]\u001b[A\n",
            " 17%|█▋        | 17/100 [41:22<3:22:59, 146.74s/it]\u001b[A\n",
            " 18%|█▊        | 18/100 [43:50<3:20:55, 147.01s/it]\u001b[A\n",
            " 19%|█▉        | 19/100 [46:17<3:18:22, 146.94s/it]\u001b[A\n",
            " 20%|██        | 20/100 [48:43<3:15:56, 146.95s/it]\u001b[A\n",
            " 21%|██        | 21/100 [51:10<3:13:21, 146.85s/it]\u001b[A\n",
            " 22%|██▏       | 22/100 [53:37<3:10:51, 146.82s/it]\u001b[A\n",
            " 23%|██▎       | 23/100 [56:04<3:08:26, 146.83s/it]\u001b[A\n",
            " 24%|██▍       | 24/100 [58:31<3:06:07, 146.94s/it]\u001b[A\n",
            " 25%|██▌       | 25/100 [1:00:58<3:03:37, 146.91s/it]\u001b[A\n",
            " 26%|██▌       | 26/100 [1:03:25<3:01:14, 146.95s/it]\u001b[A\n",
            " 27%|██▋       | 27/100 [1:05:52<2:58:50, 146.99s/it]\u001b[A\n",
            " 28%|██▊       | 28/100 [1:08:19<2:56:19, 146.94s/it]\u001b[A\n",
            " 29%|██▉       | 29/100 [1:10:45<2:53:34, 146.68s/it]\u001b[A\n",
            " 30%|███       | 30/100 [1:13:11<2:50:49, 146.42s/it]\u001b[A\n",
            " 31%|███       | 31/100 [1:15:36<2:48:12, 146.27s/it]\u001b[A\n",
            " 32%|███▏      | 32/100 [1:18:02<2:45:38, 146.15s/it]\u001b[A\n",
            " 33%|███▎      | 33/100 [1:20:29<2:43:17, 146.23s/it]\u001b[A\n",
            " 34%|███▍      | 34/100 [1:22:56<2:41:10, 146.53s/it]\u001b[A\n",
            " 35%|███▌      | 35/100 [1:25:23<2:38:49, 146.61s/it]\u001b[A\n",
            " 36%|███▌      | 36/100 [1:27:50<2:36:24, 146.64s/it]\u001b[A\n",
            " 37%|███▋      | 37/100 [1:30:17<2:34:20, 146.99s/it]\u001b[A\n",
            " 38%|███▊      | 38/100 [1:32:45<2:32:02, 147.14s/it]\u001b[A\n",
            " 39%|███▉      | 39/100 [1:35:13<2:29:58, 147.51s/it]\u001b[A\n",
            " 40%|████      | 40/100 [1:37:40<2:27:09, 147.17s/it]\u001b[A\n",
            " 41%|████      | 41/100 [1:40:06<2:24:28, 146.92s/it]\u001b[A\n",
            " 42%|████▏     | 42/100 [1:42:34<2:22:13, 147.13s/it]\u001b[A\n",
            " 43%|████▎     | 43/100 [1:45:01<2:19:46, 147.14s/it]\u001b[A\n",
            " 44%|████▍     | 44/100 [1:47:29<2:17:38, 147.47s/it]\u001b[A\n",
            " 45%|████▌     | 45/100 [1:49:57<2:15:28, 147.80s/it]\u001b[A\n",
            " 46%|████▌     | 46/100 [1:52:25<2:12:56, 147.71s/it]\u001b[A\n",
            " 47%|████▋     | 47/100 [1:54:52<2:10:15, 147.46s/it]\u001b[A\n",
            " 48%|████▊     | 48/100 [1:57:19<2:07:42, 147.35s/it]\u001b[A\n",
            " 49%|████▉     | 49/100 [1:59:46<2:05:12, 147.30s/it]\u001b[A\n",
            " 50%|█████     | 50/100 [2:02:12<2:02:25, 146.92s/it]\u001b[A\n",
            " 51%|█████     | 51/100 [2:04:38<1:59:45, 146.65s/it]\u001b[A\n",
            " 52%|█████▏    | 52/100 [2:07:05<1:57:16, 146.60s/it]\u001b[A\n",
            " 53%|█████▎    | 53/100 [2:09:32<1:55:02, 146.86s/it]\u001b[A\n",
            " 54%|█████▍    | 54/100 [2:11:59<1:52:38, 146.91s/it]\u001b[A\n",
            " 55%|█████▌    | 55/100 [2:14:27<1:50:20, 147.12s/it]\u001b[A\n",
            " 56%|█████▌    | 56/100 [2:16:55<1:48:04, 147.37s/it]\u001b[A\n",
            " 57%|█████▋    | 57/100 [2:19:23<1:45:43, 147.52s/it]\u001b[A\n",
            " 58%|█████▊    | 58/100 [2:21:51<1:43:25, 147.76s/it]\u001b[A\n",
            " 59%|█████▉    | 59/100 [2:24:19<1:41:00, 147.82s/it]\u001b[A\n",
            " 60%|██████    | 60/100 [2:26:47<1:38:40, 148.02s/it]\u001b[A\n",
            " 61%|██████    | 61/100 [2:29:15<1:36:09, 147.95s/it]\u001b[A\n",
            " 62%|██████▏   | 62/100 [2:31:43<1:33:43, 147.98s/it]\u001b[A\n",
            " 63%|██████▎   | 63/100 [2:34:11<1:31:15, 147.98s/it]\u001b[A\n",
            " 64%|██████▍   | 64/100 [2:36:39<1:28:48, 148.01s/it]\u001b[A\n",
            " 65%|██████▌   | 65/100 [2:39:06<1:26:11, 147.77s/it]\u001b[A\n",
            " 66%|██████▌   | 66/100 [2:41:34<1:23:37, 147.57s/it]\u001b[A\n",
            " 67%|██████▋   | 67/100 [2:44:00<1:20:58, 147.24s/it]\u001b[A\n",
            " 68%|██████▊   | 68/100 [2:46:28<1:18:42, 147.57s/it]\u001b[A\n",
            " 69%|██████▉   | 69/100 [2:48:58<1:16:31, 148.11s/it]\u001b[A\n",
            " 70%|███████   | 70/100 [2:51:28<1:14:21, 148.71s/it]\u001b[A\n",
            " 71%|███████   | 71/100 [2:53:57<1:11:59, 148.95s/it]\u001b[A\n",
            " 72%|███████▏  | 72/100 [2:56:23<1:09:06, 148.09s/it]\u001b[A\n",
            " 73%|███████▎  | 73/100 [2:58:48<1:06:11, 147.10s/it]\u001b[A\n",
            " 74%|███████▍  | 74/100 [3:01:13<1:03:26, 146.39s/it]\u001b[A\n",
            " 75%|███████▌  | 75/100 [3:03:40<1:01:06, 146.68s/it]\u001b[A\n",
            " 76%|███████▌  | 76/100 [3:06:10<59:00, 147.53s/it]  \u001b[A\n",
            " 77%|███████▋  | 77/100 [3:08:40<56:52, 148.35s/it]\u001b[A\n",
            " 78%|███████▊  | 78/100 [3:11:10<54:34, 148.84s/it]\u001b[A\n",
            " 79%|███████▉  | 79/100 [3:13:39<52:08, 148.96s/it]\u001b[A\n",
            " 80%|████████  | 80/100 [3:16:09<49:40, 149.04s/it]\u001b[A\n",
            " 81%|████████  | 81/100 [3:18:37<47:05, 148.73s/it]\u001b[A\n",
            " 82%|████████▏ | 82/100 [3:21:04<44:27, 148.22s/it]\u001b[A\n",
            " 83%|████████▎ | 83/100 [3:23:31<41:56, 148.05s/it]\u001b[A\n",
            " 84%|████████▍ | 84/100 [3:25:59<39:25, 147.83s/it]\u001b[A\n",
            " 85%|████████▌ | 85/100 [3:28:26<36:56, 147.78s/it]\u001b[A\n",
            " 86%|████████▌ | 86/100 [3:30:51<34:17, 146.99s/it]\u001b[A\n",
            " 87%|████████▋ | 87/100 [3:33:16<31:41, 146.25s/it]\u001b[A\n",
            " 88%|████████▊ | 88/100 [3:35:40<29:08, 145.74s/it]\u001b[A\n",
            " 89%|████████▉ | 89/100 [3:38:06<26:43, 145.74s/it]\u001b[A\n",
            " 90%|█████████ | 90/100 [3:40:32<24:17, 145.75s/it]\u001b[A\n",
            " 91%|█████████ | 91/100 [3:42:59<21:54, 146.07s/it]\u001b[A\n",
            " 92%|█████████▏| 92/100 [3:45:26<19:30, 146.31s/it]\u001b[A\n",
            " 93%|█████████▎| 93/100 [3:47:53<17:05, 146.56s/it]\u001b[A\n",
            " 94%|█████████▍| 94/100 [3:50:21<14:42, 147.08s/it]\u001b[A\n",
            " 95%|█████████▌| 95/100 [3:52:48<12:15, 147.05s/it]\u001b[A\n",
            " 96%|█████████▌| 96/100 [3:55:16<09:49, 147.30s/it]\u001b[A\n",
            " 97%|█████████▋| 97/100 [3:57:45<07:23, 147.69s/it]\u001b[A\n",
            " 98%|█████████▊| 98/100 [4:00:13<04:55, 147.81s/it]\u001b[A\n",
            " 99%|█████████▉| 99/100 [4:02:43<02:28, 148.47s/it]\u001b[A\n",
            "100%|██████████| 100/100 [4:05:12<00:00, 147.12s/it]\n"
          ],
          "name": "stderr"
        },
        {
          "output_type": "display_data",
          "data": {
            "image/png": "[encoded data removed]",
            "text/plain": [
              "<Figure size 432x288 with 2 Axes>"
            ]
          },
          "metadata": {
            "tags": [],
            "needs_background": "light"
          }
        },
        {
          "output_type": "display_data",
          "data": {
            "image/png": "[encoded data removed]",
            "text/plain": [
              "<Figure size 432x288 with 2 Axes>"
            ]
          },
          "metadata": {
            "tags": [],
            "needs_background": "light"
          }
        }
      ]
    },
    {
      "cell_type": "code",
      "metadata": {
        "id": "5_0Ob6DoWrBK"
      },
      "source": [
        "from keras.models import load_model\r\n",
        "model = load_model(\"/content/gdrive/MyDrive/proyecto/models/gru at 2021-02-14/model.h5\")"
      ],
      "execution_count": null,
      "outputs": []
    },
    {
      "cell_type": "code",
      "metadata": {
        "id": "hhGoRwu5D1pI",
        "colab": {
          "base_uri": "https://localhost:8080/",
          "height": 1000
        },
        "outputId": "3dea70fb-4abe-4679-b944-37c62976564c"
      },
      "source": [
        "agent.model.save()\n",
        "sim.test(no_of_episodes_test)\n"
      ],
      "execution_count": null,
      "outputs": [
        {
          "output_type": "stream",
          "text": [
            "\n",
            "  0%|          | 0/100 [00:00<?, ?it/s]\u001b[A"
          ],
          "name": "stderr"
        },
        {
          "output_type": "stream",
          "text": [
            "------------------------------------------------------------\n",
            "Testing\n",
            "------------------------------------------------------------\n"
          ],
          "name": "stdout"
        },
        {
          "output_type": "stream",
          "text": [
            "\n",
            "  1%|          | 1/100 [00:05<09:10,  5.56s/it]\u001b[A\n",
            "  2%|▏         | 2/100 [00:11<09:03,  5.55s/it]\u001b[A\n",
            "  3%|▎         | 3/100 [00:16<08:59,  5.56s/it]\u001b[A\n",
            "  4%|▍         | 4/100 [00:22<08:55,  5.58s/it]\u001b[A\n",
            "  5%|▌         | 5/100 [00:28<08:53,  5.62s/it]\u001b[A\n",
            "  6%|▌         | 6/100 [00:33<08:46,  5.60s/it]\u001b[A\n",
            "  7%|▋         | 7/100 [00:39<08:40,  5.60s/it]\u001b[A\n",
            "  8%|▊         | 8/100 [00:44<08:35,  5.60s/it]\u001b[A\n",
            "  9%|▉         | 9/100 [00:50<08:34,  5.65s/it]\u001b[A\n",
            " 10%|█         | 10/100 [00:56<08:25,  5.61s/it]\u001b[A\n",
            " 11%|█         | 11/100 [01:01<08:20,  5.62s/it]\u001b[A\n",
            " 12%|█▏        | 12/100 [01:07<08:13,  5.61s/it]\u001b[A\n",
            " 13%|█▎        | 13/100 [01:12<08:10,  5.63s/it]\u001b[A\n",
            " 14%|█▍        | 14/100 [01:18<08:11,  5.71s/it]\u001b[A\n",
            " 15%|█▌        | 15/100 [01:24<08:01,  5.66s/it]\u001b[A\n",
            " 16%|█▌        | 16/100 [01:29<07:52,  5.63s/it]\u001b[A\n",
            " 17%|█▋        | 17/100 [01:35<07:44,  5.60s/it]\u001b[A\n",
            " 18%|█▊        | 18/100 [01:41<07:44,  5.67s/it]\u001b[A\n",
            " 19%|█▉        | 19/100 [01:46<07:35,  5.63s/it]\u001b[A\n",
            " 20%|██        | 20/100 [01:52<07:29,  5.62s/it]\u001b[A\n",
            " 21%|██        | 21/100 [01:58<07:22,  5.61s/it]\u001b[A\n",
            " 22%|██▏       | 22/100 [02:03<07:15,  5.58s/it]\u001b[A\n",
            " 23%|██▎       | 23/100 [02:09<07:12,  5.61s/it]\u001b[A\n",
            " 24%|██▍       | 24/100 [02:14<07:06,  5.61s/it]\u001b[A\n",
            " 25%|██▌       | 25/100 [02:20<06:59,  5.59s/it]\u001b[A\n",
            " 26%|██▌       | 26/100 [02:25<06:51,  5.57s/it]\u001b[A\n",
            " 27%|██▋       | 27/100 [02:31<06:50,  5.63s/it]\u001b[A\n",
            " 28%|██▊       | 28/100 [02:37<06:44,  5.61s/it]\u001b[A\n",
            " 29%|██▉       | 29/100 [02:42<06:37,  5.60s/it]\u001b[A\n",
            " 30%|███       | 30/100 [02:48<06:32,  5.60s/it]\u001b[A\n",
            " 31%|███       | 31/100 [02:54<06:26,  5.61s/it]\u001b[A\n",
            " 32%|███▏      | 32/100 [02:59<06:24,  5.65s/it]\u001b[A\n",
            " 33%|███▎      | 33/100 [03:05<06:15,  5.61s/it]\u001b[A\n",
            " 34%|███▍      | 34/100 [03:10<06:09,  5.60s/it]\u001b[A\n",
            " 35%|███▌      | 35/100 [03:16<06:02,  5.58s/it]\u001b[A\n",
            " 36%|███▌      | 36/100 [03:21<05:56,  5.57s/it]\u001b[A\n",
            " 37%|███▋      | 37/100 [03:27<05:53,  5.61s/it]\u001b[A\n",
            " 38%|███▊      | 38/100 [03:33<05:46,  5.58s/it]\u001b[A\n",
            " 39%|███▉      | 39/100 [03:38<05:39,  5.57s/it]\u001b[A\n",
            " 40%|████      | 40/100 [03:44<05:34,  5.57s/it]\u001b[A\n",
            " 41%|████      | 41/100 [03:49<05:29,  5.59s/it]\u001b[A\n",
            " 42%|████▏     | 42/100 [03:55<05:23,  5.57s/it]\u001b[A\n",
            " 43%|████▎     | 43/100 [04:01<05:17,  5.57s/it]\u001b[A\n",
            " 44%|████▍     | 44/100 [04:06<05:13,  5.59s/it]\u001b[A\n",
            " 45%|████▌     | 45/100 [04:12<05:10,  5.64s/it]\u001b[A\n",
            " 46%|████▌     | 46/100 [04:18<05:03,  5.62s/it]\u001b[A\n",
            " 47%|████▋     | 47/100 [04:23<04:57,  5.61s/it]\u001b[A\n",
            " 48%|████▊     | 48/100 [04:29<04:50,  5.59s/it]\u001b[A\n",
            " 49%|████▉     | 49/100 [04:34<04:44,  5.57s/it]\u001b[A\n",
            " 50%|█████     | 50/100 [04:40<04:40,  5.61s/it]\u001b[A\n",
            " 51%|█████     | 51/100 [04:45<04:35,  5.61s/it]\u001b[A\n",
            " 52%|█████▏    | 52/100 [04:51<04:29,  5.61s/it]\u001b[A\n",
            " 53%|█████▎    | 53/100 [04:57<04:23,  5.62s/it]\u001b[A\n",
            " 54%|█████▍    | 54/100 [05:03<04:20,  5.67s/it]\u001b[A\n",
            " 55%|█████▌    | 55/100 [05:08<04:13,  5.63s/it]\u001b[A\n",
            " 56%|█████▌    | 56/100 [05:14<04:06,  5.60s/it]\u001b[A\n",
            " 57%|█████▋    | 57/100 [05:19<04:00,  5.59s/it]\u001b[A\n",
            " 58%|█████▊    | 58/100 [05:25<03:54,  5.59s/it]\u001b[A\n",
            " 59%|█████▉    | 59/100 [05:30<03:50,  5.62s/it]\u001b[A\n",
            " 60%|██████    | 60/100 [05:36<03:43,  5.58s/it]\u001b[A\n",
            " 61%|██████    | 61/100 [05:41<03:37,  5.57s/it]\u001b[A\n",
            " 62%|██████▏   | 62/100 [05:47<03:31,  5.56s/it]\u001b[A\n",
            " 63%|██████▎   | 63/100 [05:53<03:26,  5.59s/it]\u001b[A\n",
            " 64%|██████▍   | 64/100 [05:58<03:21,  5.58s/it]\u001b[A\n",
            " 65%|██████▌   | 65/100 [06:04<03:14,  5.55s/it]\u001b[A\n",
            " 66%|██████▌   | 66/100 [06:09<03:07,  5.53s/it]\u001b[A\n",
            " 67%|██████▋   | 67/100 [06:15<03:03,  5.58s/it]\u001b[A\n",
            " 68%|██████▊   | 68/100 [06:20<02:58,  5.56s/it]\u001b[A\n",
            " 69%|██████▉   | 69/100 [06:26<02:51,  5.55s/it]\u001b[A\n",
            " 70%|███████   | 70/100 [06:31<02:45,  5.51s/it]\u001b[A\n",
            " 71%|███████   | 71/100 [06:37<02:39,  5.48s/it]\u001b[A\n",
            " 72%|███████▏  | 72/100 [06:42<02:35,  5.54s/it]\u001b[A\n",
            " 73%|███████▎  | 73/100 [06:48<02:29,  5.54s/it]\u001b[A\n",
            " 74%|███████▍  | 74/100 [06:54<02:24,  5.54s/it]\u001b[A\n",
            " 75%|███████▌  | 75/100 [06:59<02:18,  5.54s/it]\u001b[A\n",
            " 76%|███████▌  | 76/100 [07:05<02:12,  5.52s/it]\u001b[A\n",
            " 77%|███████▋  | 77/100 [07:10<02:08,  5.57s/it]\u001b[A\n",
            " 78%|███████▊  | 78/100 [07:16<02:02,  5.57s/it]\u001b[A\n",
            " 79%|███████▉  | 79/100 [07:21<01:56,  5.54s/it]\u001b[A\n",
            " 80%|████████  | 80/100 [07:27<01:50,  5.52s/it]\u001b[A\n",
            " 81%|████████  | 81/100 [07:32<01:45,  5.55s/it]\u001b[A\n",
            " 82%|████████▏ | 82/100 [07:38<01:39,  5.52s/it]\u001b[A\n",
            " 83%|████████▎ | 83/100 [07:43<01:33,  5.53s/it]\u001b[A\n",
            " 84%|████████▍ | 84/100 [07:49<01:28,  5.53s/it]\u001b[A\n",
            " 85%|████████▌ | 85/100 [07:54<01:22,  5.52s/it]\u001b[A\n",
            " 86%|████████▌ | 86/100 [08:00<01:17,  5.56s/it]\u001b[A\n",
            " 87%|████████▋ | 87/100 [08:06<01:12,  5.55s/it]\u001b[A\n",
            " 88%|████████▊ | 88/100 [08:11<01:06,  5.54s/it]\u001b[A\n",
            " 89%|████████▉ | 89/100 [08:17<01:00,  5.53s/it]\u001b[A\n",
            " 90%|█████████ | 90/100 [08:22<00:55,  5.58s/it]\u001b[A\n",
            " 91%|█████████ | 91/100 [08:28<00:49,  5.54s/it]\u001b[A\n",
            " 92%|█████████▏| 92/100 [08:33<00:44,  5.52s/it]\u001b[A\n",
            " 93%|█████████▎| 93/100 [08:39<00:38,  5.51s/it]\u001b[A\n",
            " 94%|█████████▍| 94/100 [08:44<00:33,  5.51s/it]\u001b[A\n",
            " 95%|█████████▌| 95/100 [08:50<00:27,  5.54s/it]\u001b[A\n",
            " 96%|█████████▌| 96/100 [08:55<00:22,  5.57s/it]\u001b[A\n",
            " 97%|█████████▋| 97/100 [09:01<00:16,  5.54s/it]\u001b[A\n",
            " 98%|█████████▊| 98/100 [09:06<00:11,  5.52s/it]\u001b[A\n",
            " 99%|█████████▉| 99/100 [09:12<00:05,  5.60s/it]\u001b[A\n",
            "100%|██████████| 100/100 [09:18<00:00,  5.58s/it]\n"
          ],
          "name": "stderr"
        },
        {
          "output_type": "stream",
          "text": [
            "------------------------------------------------------------\n",
            "Mean Reward: 158.19032726941782\n",
            "Mean Max Reward: 281.03593637411143\n",
            "Positive Reward Percentage: 1.0\n",
            "------------------------------------------------------------\n"
          ],
          "name": "stdout"
        },
        {
          "output_type": "display_data",
          "data": {
            "image/png": "[encoded data removed]",
            "text/plain": [
              "<Figure size 432x288 with 1 Axes>"
            ]
          },
          "metadata": {
            "tags": [],
            "needs_background": "light"
          }
        }
      ]
    },
    {
      "cell_type": "code",
      "metadata": {
        "colab": {
          "base_uri": "https://localhost:8080/"
        },
        "id": "Y6IstS_g311w",
        "outputId": "09a9b281-122e-4da9-87fb-0893630c5ab6"
      },
      "source": [
        "# librerias\r\n",
        "import os\r\n",
        "import shutil\r\n",
        "# Configuracion general\r\n",
        "OUTPUT_FOLDER='models'\r\n",
        "GOOGLE_DRIVE_CODIGO_CARPETA_OUTPUT_MODELOS = '1F-eu-muFSZSKiWFU0vMHhD2Xi8ApBEdR'\r\n",
        "\r\n",
        "\r\n",
        "\r\n",
        "MODELO_INICIO_FILENAME = 'model.h5'\r\n",
        "# Ejecucion modelo\r\n",
        "## Nombre modelo\r\n",
        "model_name= agent.model.folder.split('/')[-1]\r\n",
        "## Renombrar archivo modelo\r\n",
        "ruta_modelo_inicio = f'{OUTPUT_FOLDER}/{model_name}/{MODELO_INICIO_FILENAME}'\r\n",
        "ruta_modelo_destino = f'{OUTPUT_FOLDER}/{model_name}/{model_name}.h5'\r\n",
        "try:\r\n",
        "    shutil.move(ruta_modelo_inicio, ruta_modelo_destino)\r\n",
        "except FileNotFoundError:\r\n",
        "    shutil.move(ruta_modelo_destino, ruta_modelo_inicio)\r\n",
        "    shutil.move(ruta_modelo_inicio, ruta_modelo_destino)\r\n",
        "## Subir al drive\r\n",
        "os.system(f'gupload --to {GOOGLE_DRIVE_CODIGO_CARPETA_OUTPUT_MODELOS} {ruta_modelo_destino}')"
      ],
      "execution_count": null,
      "outputs": [
        {
          "output_type": "execute_result",
          "data": {
            "text/plain": [
              "0"
            ]
          },
          "metadata": {
            "tags": []
          },
          "execution_count": 25
        }
      ]
    },
    {
      "cell_type": "code",
      "metadata": {
        "colab": {
          "base_uri": "https://localhost:8080/",
          "height": 35
        },
        "id": "kSU9fm4rOr1Q",
        "outputId": "0cd38fc2-d409-4158-8359-dd3134fdda74"
      },
      "source": [
        "import tensorflow as tf\r\n",
        "tf.test.gpu_device_name()"
      ],
      "execution_count": null,
      "outputs": [
        {
          "output_type": "execute_result",
          "data": {
            "application/vnd.google.colaboratory.intrinsic+json": {
              "type": "string"
            },
            "text/plain": [
              "'/device:GPU:0'"
            ]
          },
          "metadata": {
            "tags": []
          },
          "execution_count": 12
        }
      ]
    },
    {
      "cell_type": "code",
      "metadata": {
        "colab": {
          "base_uri": "https://localhost:8080/",
          "height": 35
        },
        "id": "dctsJdX_GZ5i",
        "outputId": "812746e6-af90-4873-b960-16049ec5174d"
      },
      "source": [
        "model_name"
      ],
      "execution_count": null,
      "outputs": [
        {
          "output_type": "execute_result",
          "data": {
            "application/vnd.google.colaboratory.intrinsic+json": {
              "type": "string"
            },
            "text/plain": [
              "'conv_2021-02-15_15-06-00'"
            ]
          },
          "metadata": {
            "tags": []
          },
          "execution_count": 11
        }
      ]
    }
  ]
}